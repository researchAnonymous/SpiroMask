{
 "cells": [
  {
   "cell_type": "markdown",
   "metadata": {},
   "source": [
    "This scripts depends on the generatation of envelope features that needs to be generated first."
   ]
  },
  {
   "cell_type": "code",
   "execution_count": 1,
   "metadata": {},
   "outputs": [],
   "source": [
    "#filename where you want to store the audio features\n",
    "filename = 'N95_Audio_Features.pickle'"
   ]
  },
  {
   "cell_type": "code",
   "execution_count": 3,
   "metadata": {},
   "outputs": [
    {
     "name": "stdout",
     "output_type": "stream",
     "text": [
      "Total Data Points =  24\n"
     ]
    },
    {
     "data": {
      "text/html": [
       "<div>\n",
       "<style scoped>\n",
       "    .dataframe tbody tr th:only-of-type {\n",
       "        vertical-align: middle;\n",
       "    }\n",
       "\n",
       "    .dataframe tbody tr th {\n",
       "        vertical-align: top;\n",
       "    }\n",
       "\n",
       "    .dataframe thead th {\n",
       "        text-align: right;\n",
       "    }\n",
       "</style>\n",
       "<table border=\"1\" class=\"dataframe\">\n",
       "  <thead>\n",
       "    <tr style=\"text-align: right;\">\n",
       "      <th></th>\n",
       "      <th>Unnamed: 0</th>\n",
       "      <th>Unnamed: 0.1</th>\n",
       "      <th>Name</th>\n",
       "      <th>Filename</th>\n",
       "      <th>rPEF</th>\n",
       "      <th>rFEV1</th>\n",
       "      <th>rFVC</th>\n",
       "      <th>rRatio</th>\n",
       "      <th>gPEF</th>\n",
       "      <th>gFEV1</th>\n",
       "      <th>gFVC</th>\n",
       "      <th>gRatio</th>\n",
       "    </tr>\n",
       "  </thead>\n",
       "  <tbody>\n",
       "    <tr>\n",
       "      <th>0</th>\n",
       "      <td>0</td>\n",
       "      <td>NaN</td>\n",
       "      <td>Maithili01</td>\n",
       "      <td>Maithili01.FVC_N95.2b66msvi.wav</td>\n",
       "      <td>2.41</td>\n",
       "      <td>0.15</td>\n",
       "      <td>3.45</td>\n",
       "      <td>4.347826</td>\n",
       "      <td>4.39</td>\n",
       "      <td>2.12</td>\n",
       "      <td>2.86</td>\n",
       "      <td>74.125874</td>\n",
       "    </tr>\n",
       "    <tr>\n",
       "      <th>1</th>\n",
       "      <td>1</td>\n",
       "      <td>NaN</td>\n",
       "      <td>Rahul01</td>\n",
       "      <td>Rahul01.FVC_N95.2b8ki4jm.wav</td>\n",
       "      <td>1.99</td>\n",
       "      <td>0.10</td>\n",
       "      <td>1.74</td>\n",
       "      <td>5.747126</td>\n",
       "      <td>7.00</td>\n",
       "      <td>3.43</td>\n",
       "      <td>3.43</td>\n",
       "      <td>100.000000</td>\n",
       "    </tr>\n",
       "    <tr>\n",
       "      <th>2</th>\n",
       "      <td>2</td>\n",
       "      <td>NaN</td>\n",
       "      <td>ShikhaD01</td>\n",
       "      <td>ShikhaD01.FVC_N95.2b6bnd0l.wav</td>\n",
       "      <td>3.22</td>\n",
       "      <td>0.16</td>\n",
       "      <td>4.85</td>\n",
       "      <td>3.298969</td>\n",
       "      <td>4.50</td>\n",
       "      <td>1.92</td>\n",
       "      <td>2.07</td>\n",
       "      <td>92.753623</td>\n",
       "    </tr>\n",
       "    <tr>\n",
       "      <th>3</th>\n",
       "      <td>3</td>\n",
       "      <td>NaN</td>\n",
       "      <td>Vignesh01</td>\n",
       "      <td>Vignesh01.FVC_N95.2bb8mr8l.wav</td>\n",
       "      <td>2.44</td>\n",
       "      <td>0.16</td>\n",
       "      <td>3.37</td>\n",
       "      <td>4.747774</td>\n",
       "      <td>7.12</td>\n",
       "      <td>3.16</td>\n",
       "      <td>3.28</td>\n",
       "      <td>96.341463</td>\n",
       "    </tr>\n",
       "    <tr>\n",
       "      <th>4</th>\n",
       "      <td>4</td>\n",
       "      <td>NaN</td>\n",
       "      <td>Yash01</td>\n",
       "      <td>Yash01.FVC_N95.2b8n0616.wav</td>\n",
       "      <td>1.98</td>\n",
       "      <td>0.12</td>\n",
       "      <td>2.02</td>\n",
       "      <td>5.940594</td>\n",
       "      <td>7.81</td>\n",
       "      <td>2.96</td>\n",
       "      <td>2.96</td>\n",
       "      <td>100.000000</td>\n",
       "    </tr>\n",
       "    <tr>\n",
       "      <th>5</th>\n",
       "      <td>5</td>\n",
       "      <td>NaN</td>\n",
       "      <td>Sandra01</td>\n",
       "      <td>Sandra01.FVC_N95.2bda6hnu.wav</td>\n",
       "      <td>2.35</td>\n",
       "      <td>0.09</td>\n",
       "      <td>2.46</td>\n",
       "      <td>3.658537</td>\n",
       "      <td>4.07</td>\n",
       "      <td>2.59</td>\n",
       "      <td>2.67</td>\n",
       "      <td>97.003745</td>\n",
       "    </tr>\n",
       "    <tr>\n",
       "      <th>6</th>\n",
       "      <td>6</td>\n",
       "      <td>NaN</td>\n",
       "      <td>Hatim01</td>\n",
       "      <td>Hatim01.FVC_N95.2be0sr3s.wav</td>\n",
       "      <td>2.43</td>\n",
       "      <td>0.04</td>\n",
       "      <td>3.75</td>\n",
       "      <td>1.066667</td>\n",
       "      <td>2.52</td>\n",
       "      <td>0.61</td>\n",
       "      <td>2.73</td>\n",
       "      <td>22.344322</td>\n",
       "    </tr>\n",
       "    <tr>\n",
       "      <th>7</th>\n",
       "      <td>7</td>\n",
       "      <td>NaN</td>\n",
       "      <td>Maithili02</td>\n",
       "      <td>Maithili02.FVC_N95.2b66lj8n.wav</td>\n",
       "      <td>2.84</td>\n",
       "      <td>0.19</td>\n",
       "      <td>3.56</td>\n",
       "      <td>5.337079</td>\n",
       "      <td>4.39</td>\n",
       "      <td>2.12</td>\n",
       "      <td>2.86</td>\n",
       "      <td>74.125874</td>\n",
       "    </tr>\n",
       "    <tr>\n",
       "      <th>8</th>\n",
       "      <td>8</td>\n",
       "      <td>NaN</td>\n",
       "      <td>Rahul02</td>\n",
       "      <td>Rahul02.FVC_N95.2b8kj7lr.wav</td>\n",
       "      <td>0.77</td>\n",
       "      <td>0.04</td>\n",
       "      <td>0.95</td>\n",
       "      <td>4.210526</td>\n",
       "      <td>7.00</td>\n",
       "      <td>3.43</td>\n",
       "      <td>3.43</td>\n",
       "      <td>100.000000</td>\n",
       "    </tr>\n",
       "    <tr>\n",
       "      <th>9</th>\n",
       "      <td>9</td>\n",
       "      <td>NaN</td>\n",
       "      <td>Kaushal01</td>\n",
       "      <td>Kaushal01.FVC_N95.2bldi9ts.wav</td>\n",
       "      <td>1.61</td>\n",
       "      <td>0.05</td>\n",
       "      <td>2.06</td>\n",
       "      <td>2.427184</td>\n",
       "      <td>8.42</td>\n",
       "      <td>3.36</td>\n",
       "      <td>3.60</td>\n",
       "      <td>93.333333</td>\n",
       "    </tr>\n",
       "    <tr>\n",
       "      <th>10</th>\n",
       "      <td>10</td>\n",
       "      <td>NaN</td>\n",
       "      <td>Kaushal02</td>\n",
       "      <td>Kaushal02.FVC_N95.2bldi9ts.wav</td>\n",
       "      <td>1.99</td>\n",
       "      <td>0.08</td>\n",
       "      <td>3.69</td>\n",
       "      <td>2.168022</td>\n",
       "      <td>8.42</td>\n",
       "      <td>3.36</td>\n",
       "      <td>3.60</td>\n",
       "      <td>93.333333</td>\n",
       "    </tr>\n",
       "    <tr>\n",
       "      <th>11</th>\n",
       "      <td>11</td>\n",
       "      <td>NaN</td>\n",
       "      <td>Alok01</td>\n",
       "      <td>Alok01.FVC_N95.2blk7k0f.wav</td>\n",
       "      <td>2.94</td>\n",
       "      <td>0.08</td>\n",
       "      <td>3.62</td>\n",
       "      <td>2.209945</td>\n",
       "      <td>7.98</td>\n",
       "      <td>3.33</td>\n",
       "      <td>3.76</td>\n",
       "      <td>88.563830</td>\n",
       "    </tr>\n",
       "    <tr>\n",
       "      <th>12</th>\n",
       "      <td>12</td>\n",
       "      <td>NaN</td>\n",
       "      <td>Monika01</td>\n",
       "      <td>Monika01.FVC_N95.2bllj08r.wav</td>\n",
       "      <td>2.15</td>\n",
       "      <td>0.06</td>\n",
       "      <td>2.98</td>\n",
       "      <td>2.013423</td>\n",
       "      <td>6.86</td>\n",
       "      <td>2.78</td>\n",
       "      <td>2.89</td>\n",
       "      <td>96.193772</td>\n",
       "    </tr>\n",
       "    <tr>\n",
       "      <th>13</th>\n",
       "      <td>13</td>\n",
       "      <td>NaN</td>\n",
       "      <td>Monika02</td>\n",
       "      <td>Monika02.FVC_N95.2bllk1ud.wav</td>\n",
       "      <td>2.44</td>\n",
       "      <td>0.10</td>\n",
       "      <td>3.91</td>\n",
       "      <td>2.557545</td>\n",
       "      <td>6.86</td>\n",
       "      <td>2.78</td>\n",
       "      <td>2.89</td>\n",
       "      <td>96.193772</td>\n",
       "    </tr>\n",
       "    <tr>\n",
       "      <th>14</th>\n",
       "      <td>14</td>\n",
       "      <td>NaN</td>\n",
       "      <td>Alok02</td>\n",
       "      <td>Alok02.FVC_N95.2blk7k0f.wav</td>\n",
       "      <td>2.18</td>\n",
       "      <td>0.02</td>\n",
       "      <td>1.88</td>\n",
       "      <td>1.063830</td>\n",
       "      <td>7.98</td>\n",
       "      <td>3.33</td>\n",
       "      <td>3.76</td>\n",
       "      <td>88.563830</td>\n",
       "    </tr>\n",
       "    <tr>\n",
       "      <th>15</th>\n",
       "      <td>15</td>\n",
       "      <td>NaN</td>\n",
       "      <td>Rik01</td>\n",
       "      <td>Rik01.FVC_N95.2bqkp33h.wav</td>\n",
       "      <td>0.64</td>\n",
       "      <td>0.01</td>\n",
       "      <td>1.48</td>\n",
       "      <td>0.675676</td>\n",
       "      <td>9.18</td>\n",
       "      <td>3.01</td>\n",
       "      <td>3.31</td>\n",
       "      <td>90.936556</td>\n",
       "    </tr>\n",
       "    <tr>\n",
       "      <th>16</th>\n",
       "      <td>16</td>\n",
       "      <td>NaN</td>\n",
       "      <td>Rik02</td>\n",
       "      <td>Rik02.FVC_N95.2bqkq12o.wav</td>\n",
       "      <td>0.60</td>\n",
       "      <td>0.00</td>\n",
       "      <td>1.61</td>\n",
       "      <td>0.000000</td>\n",
       "      <td>9.18</td>\n",
       "      <td>3.01</td>\n",
       "      <td>3.31</td>\n",
       "      <td>90.936556</td>\n",
       "    </tr>\n",
       "    <tr>\n",
       "      <th>17</th>\n",
       "      <td>17</td>\n",
       "      <td>NaN</td>\n",
       "      <td>Yashi01</td>\n",
       "      <td>Yashi01.FVC_N95.2c02a3vr.wav</td>\n",
       "      <td>0.36</td>\n",
       "      <td>0.01</td>\n",
       "      <td>0.49</td>\n",
       "      <td>2.040816</td>\n",
       "      <td>1.68</td>\n",
       "      <td>0.91</td>\n",
       "      <td>0.93</td>\n",
       "      <td>97.849462</td>\n",
       "    </tr>\n",
       "    <tr>\n",
       "      <th>18</th>\n",
       "      <td>18</td>\n",
       "      <td>NaN</td>\n",
       "      <td>Yashi02</td>\n",
       "      <td>Yashi02.FVC_N95.2c02b089.wav</td>\n",
       "      <td>0.38</td>\n",
       "      <td>0.01</td>\n",
       "      <td>0.54</td>\n",
       "      <td>1.851852</td>\n",
       "      <td>1.68</td>\n",
       "      <td>0.91</td>\n",
       "      <td>0.93</td>\n",
       "      <td>97.849462</td>\n",
       "    </tr>\n",
       "    <tr>\n",
       "      <th>19</th>\n",
       "      <td>19</td>\n",
       "      <td>NaN</td>\n",
       "      <td>Hatim02</td>\n",
       "      <td>Hatim02.FVC_N95.2be0uvo6.wav</td>\n",
       "      <td>2.55</td>\n",
       "      <td>0.06</td>\n",
       "      <td>4.28</td>\n",
       "      <td>1.401869</td>\n",
       "      <td>2.52</td>\n",
       "      <td>0.61</td>\n",
       "      <td>2.73</td>\n",
       "      <td>22.344322</td>\n",
       "    </tr>\n",
       "    <tr>\n",
       "      <th>20</th>\n",
       "      <td>20</td>\n",
       "      <td>NaN</td>\n",
       "      <td>Utpal01</td>\n",
       "      <td>Utpal01.FVC_N95.2aa5vpa8.wav</td>\n",
       "      <td>0.82</td>\n",
       "      <td>0.03</td>\n",
       "      <td>0.57</td>\n",
       "      <td>5.263158</td>\n",
       "      <td>5.74</td>\n",
       "      <td>2.89</td>\n",
       "      <td>3.12</td>\n",
       "      <td>92.628205</td>\n",
       "    </tr>\n",
       "    <tr>\n",
       "      <th>21</th>\n",
       "      <td>21</td>\n",
       "      <td>NaN</td>\n",
       "      <td>Vinod01</td>\n",
       "      <td>Vinod01.FVC_N95.2c1thc3n.wav</td>\n",
       "      <td>0.90</td>\n",
       "      <td>0.03</td>\n",
       "      <td>1.28</td>\n",
       "      <td>2.343750</td>\n",
       "      <td>6.24</td>\n",
       "      <td>2.58</td>\n",
       "      <td>3.46</td>\n",
       "      <td>74.566474</td>\n",
       "    </tr>\n",
       "    <tr>\n",
       "      <th>22</th>\n",
       "      <td>22</td>\n",
       "      <td>NaN</td>\n",
       "      <td>Xhitij01</td>\n",
       "      <td>Xhitij01.FVC_N95.2c29e4tp.wav</td>\n",
       "      <td>3.45</td>\n",
       "      <td>0.12</td>\n",
       "      <td>2.86</td>\n",
       "      <td>4.195804</td>\n",
       "      <td>7.66</td>\n",
       "      <td>2.99</td>\n",
       "      <td>2.99</td>\n",
       "      <td>100.000000</td>\n",
       "    </tr>\n",
       "    <tr>\n",
       "      <th>23</th>\n",
       "      <td>23</td>\n",
       "      <td>NaN</td>\n",
       "      <td>Xhitij02</td>\n",
       "      <td>Xhitij02.FVC_N95.2c29ernu.wav</td>\n",
       "      <td>3.05</td>\n",
       "      <td>0.12</td>\n",
       "      <td>2.47</td>\n",
       "      <td>4.858300</td>\n",
       "      <td>7.66</td>\n",
       "      <td>2.99</td>\n",
       "      <td>3.16</td>\n",
       "      <td>94.620253</td>\n",
       "    </tr>\n",
       "  </tbody>\n",
       "</table>\n",
       "</div>"
      ],
      "text/plain": [
       "    Unnamed: 0  Unnamed: 0.1        Name                         Filename  \\\n",
       "0            0           NaN  Maithili01  Maithili01.FVC_N95.2b66msvi.wav   \n",
       "1            1           NaN     Rahul01     Rahul01.FVC_N95.2b8ki4jm.wav   \n",
       "2            2           NaN   ShikhaD01   ShikhaD01.FVC_N95.2b6bnd0l.wav   \n",
       "3            3           NaN   Vignesh01   Vignesh01.FVC_N95.2bb8mr8l.wav   \n",
       "4            4           NaN      Yash01      Yash01.FVC_N95.2b8n0616.wav   \n",
       "5            5           NaN    Sandra01    Sandra01.FVC_N95.2bda6hnu.wav   \n",
       "6            6           NaN     Hatim01     Hatim01.FVC_N95.2be0sr3s.wav   \n",
       "7            7           NaN  Maithili02  Maithili02.FVC_N95.2b66lj8n.wav   \n",
       "8            8           NaN     Rahul02     Rahul02.FVC_N95.2b8kj7lr.wav   \n",
       "9            9           NaN   Kaushal01   Kaushal01.FVC_N95.2bldi9ts.wav   \n",
       "10          10           NaN   Kaushal02   Kaushal02.FVC_N95.2bldi9ts.wav   \n",
       "11          11           NaN      Alok01      Alok01.FVC_N95.2blk7k0f.wav   \n",
       "12          12           NaN    Monika01    Monika01.FVC_N95.2bllj08r.wav   \n",
       "13          13           NaN    Monika02    Monika02.FVC_N95.2bllk1ud.wav   \n",
       "14          14           NaN      Alok02      Alok02.FVC_N95.2blk7k0f.wav   \n",
       "15          15           NaN       Rik01       Rik01.FVC_N95.2bqkp33h.wav   \n",
       "16          16           NaN       Rik02       Rik02.FVC_N95.2bqkq12o.wav   \n",
       "17          17           NaN     Yashi01     Yashi01.FVC_N95.2c02a3vr.wav   \n",
       "18          18           NaN     Yashi02     Yashi02.FVC_N95.2c02b089.wav   \n",
       "19          19           NaN     Hatim02     Hatim02.FVC_N95.2be0uvo6.wav   \n",
       "20          20           NaN     Utpal01     Utpal01.FVC_N95.2aa5vpa8.wav   \n",
       "21          21           NaN     Vinod01     Vinod01.FVC_N95.2c1thc3n.wav   \n",
       "22          22           NaN    Xhitij01    Xhitij01.FVC_N95.2c29e4tp.wav   \n",
       "23          23           NaN    Xhitij02    Xhitij02.FVC_N95.2c29ernu.wav   \n",
       "\n",
       "    rPEF  rFEV1  rFVC    rRatio  gPEF  gFEV1  gFVC      gRatio  \n",
       "0   2.41   0.15  3.45  4.347826  4.39   2.12  2.86   74.125874  \n",
       "1   1.99   0.10  1.74  5.747126  7.00   3.43  3.43  100.000000  \n",
       "2   3.22   0.16  4.85  3.298969  4.50   1.92  2.07   92.753623  \n",
       "3   2.44   0.16  3.37  4.747774  7.12   3.16  3.28   96.341463  \n",
       "4   1.98   0.12  2.02  5.940594  7.81   2.96  2.96  100.000000  \n",
       "5   2.35   0.09  2.46  3.658537  4.07   2.59  2.67   97.003745  \n",
       "6   2.43   0.04  3.75  1.066667  2.52   0.61  2.73   22.344322  \n",
       "7   2.84   0.19  3.56  5.337079  4.39   2.12  2.86   74.125874  \n",
       "8   0.77   0.04  0.95  4.210526  7.00   3.43  3.43  100.000000  \n",
       "9   1.61   0.05  2.06  2.427184  8.42   3.36  3.60   93.333333  \n",
       "10  1.99   0.08  3.69  2.168022  8.42   3.36  3.60   93.333333  \n",
       "11  2.94   0.08  3.62  2.209945  7.98   3.33  3.76   88.563830  \n",
       "12  2.15   0.06  2.98  2.013423  6.86   2.78  2.89   96.193772  \n",
       "13  2.44   0.10  3.91  2.557545  6.86   2.78  2.89   96.193772  \n",
       "14  2.18   0.02  1.88  1.063830  7.98   3.33  3.76   88.563830  \n",
       "15  0.64   0.01  1.48  0.675676  9.18   3.01  3.31   90.936556  \n",
       "16  0.60   0.00  1.61  0.000000  9.18   3.01  3.31   90.936556  \n",
       "17  0.36   0.01  0.49  2.040816  1.68   0.91  0.93   97.849462  \n",
       "18  0.38   0.01  0.54  1.851852  1.68   0.91  0.93   97.849462  \n",
       "19  2.55   0.06  4.28  1.401869  2.52   0.61  2.73   22.344322  \n",
       "20  0.82   0.03  0.57  5.263158  5.74   2.89  3.12   92.628205  \n",
       "21  0.90   0.03  1.28  2.343750  6.24   2.58  3.46   74.566474  \n",
       "22  3.45   0.12  2.86  4.195804  7.66   2.99  2.99  100.000000  \n",
       "23  3.05   0.12  2.47  4.858300  7.66   2.99  3.16   94.620253  "
      ]
     },
     "execution_count": 3,
     "metadata": {},
     "output_type": "execute_result"
    }
   ],
   "source": [
    "import librosa\n",
    "import librosa.display\n",
    "import IPython.display as ipd\n",
    "import numpy as np\n",
    "import sklearn\n",
    "import pandas as pd\n",
    "from sklearn.model_selection import LeaveOneOut\n",
    "from sklearn.linear_model import LinearRegression\n",
    "from sklearn.ensemble import RandomForestRegressor\n",
    "from sklearn.ensemble import BaggingRegressor\n",
    "from sklearn.svm import SVR\n",
    "from sklearn.linear_model import Lasso\n",
    "from sklearn.linear_model import Ridge\n",
    "import xgboost as xgb\n",
    "from sklearn.metrics import mean_squared_error\n",
    "import matplotlib\n",
    "import matplotlib.pyplot as plt\n",
    "import latexify as lt\n",
    "import os\n",
    "#from thinkdsp import read_json\n",
    "import scipy\n",
    "import speechpy\n",
    "#LOSO Validation\n",
    "loo = LeaveOneOut()\n",
    "import tsfel\n",
    "#for filter\n",
    "from scipy.signal import butter\n",
    "from scipy.signal import lfilter\n",
    "from scipy.signal import freqz;\n",
    "import pickle\n",
    "\n",
    "def butter_highpass(cutoff, fs, order=5):\n",
    "    nyq = 0.5 * fs\n",
    "    normal_cutoff = cutoff / nyq\n",
    "    b, a = butter(order, normal_cutoff, btype='highpass', analog=False)\n",
    "    return b, a\n",
    "\n",
    "def butter_highpass_filter(data, cutoff, fs, order=5):\n",
    "    b, a = butter_highpass(cutoff, fs, order=order)\n",
    "    y = lfilter(b, a, data)\n",
    "    return y;\n",
    "\n",
    "def butter_bandpass(lowcut, highcut, fs, order=5):\n",
    "    nyq = 0.5 * fs\n",
    "    low = lowcut / nyq\n",
    "    high = highcut / nyq\n",
    "    b, a = butter(order, [low, high], btype='band')\n",
    "    return b, a\n",
    "\n",
    "\n",
    "def butter_bandpass_filter(data, lowcut, highcut, fs, order=5):\n",
    "    b, a = butter_bandpass(lowcut, highcut, fs, order=order)\n",
    "    y = lfilter(b, a, data)\n",
    "    return y\n",
    "#the file where all data is arranged.\n",
    "data = pd.read_csv(\"data_FVC_N95.csv\")\n",
    "print(\"Total Data Points = \",len(data))\n",
    "data.head(25)"
   ]
  },
  {
   "cell_type": "code",
   "execution_count": 5,
   "metadata": {},
   "outputs": [],
   "source": [
    "#load time series feature of the envelope\n",
    "    \n",
    "with open('ts-fel-N95-Envelope.pickle', 'rb') as handle:\n",
    "    ts_features_envelope = pickle.load(handle)\n",
    "\n",
    "Audio_Features = {}\n",
    "    \n",
    "def get_features(filepath, lungParam):\n",
    "    \n",
    "    #use the below line if the data is in json\n",
    "    #wave = read_json(filepath=filepath)\n",
    "    \n",
    "    #use the below line if the data is in wav\n",
    "    ys, fs = librosa.load(filepath)\n",
    "    \n",
    "    if lungParam == 'FEV1':\n",
    "        #print(\"FEV1 is the param. Audio signal will be clipped to peak only\")\n",
    "        peakIndex = np.where(ys == ys.max())[0][0]\n",
    "        ys = ys[0:peakIndex+1];\n",
    "\n",
    "    ys = speechpy.processing.preemphasis(ys, cof=0.98)\n",
    "    \n",
    "    \n",
    "    #staching frames\n",
    "    frames = speechpy.processing.stack_frames(ys, sampling_frequency=fs, frame_length=0.020, frame_stride=0.01, filter=lambda x: np.ones((x,)),zero_padding=True)\n",
    "\n",
    "    power_spectrum = np.mean(speechpy.processing.power_spectrum(frames, fft_points=512), axis=0)\n",
    "    \n",
    "    \n",
    "    mfcc = speechpy.feature.mfcc(ys, sampling_frequency=fs, frame_length=0.020, frame_stride=0.01,\n",
    "             num_filters=40, fft_length=512, low_frequency=0, high_frequency=None)\n",
    "    mfcc_cmvn = np.mean(speechpy.processing.cmvnw(mfcc,win_size=301,variance_normalization=True), axis=0)\n",
    "    \n",
    "    logenergy = speechpy.feature.lmfe(ys, sampling_frequency=fs, frame_length=0.020, frame_stride=0.01,\n",
    "             num_filters=40, fft_length=512, low_frequency=0, high_frequency=None)\n",
    "    \n",
    "    logenergy = np.mean(logenergy, axis=0)\n",
    "    \n",
    "    mfe = speechpy.feature.mfe(ys, sampling_frequency=fs, frame_length=0.020, frame_stride=0.01,\n",
    "            num_filters=40, fft_length=512, low_frequency=0, high_frequency=None)\n",
    "    mfe = np.mean(mfe[0],axis=0)\n",
    "    \n",
    "    \n",
    "    #get the features of the HT envelope of audio\n",
    "    stat_features_envelope = ts_features_envelope[filepath.split('/')[-1]]\n",
    "    \n",
    "    \n",
    "    cfg = tsfel.get_features_by_domain()\n",
    "    stat_features = np.array(tsfel.time_series_features_extractor(cfg, ys, fs=16000, window=500))[0]\n",
    "    \n",
    "    #fc_coefficients = np.mean(librosa.feature.mfcc(y=ys, n_mfcc=13, sr=16000),axis=1)\n",
    "    #print(mfc_coefficients.shape)\n",
    "    \n",
    "    \n",
    "    melspectogram = np.mean(librosa.feature.melspectrogram(y=ys, sr=16000, n_mels=64, fmax=8000),axis=1)\n",
    "    #print(melspectogram.shape)\n",
    "    \n",
    "    stft_spectrogram=np.abs(librosa.stft(ys))\n",
    "    chromagram=np.mean(librosa.feature.chroma_stft(S=stft_spectrogram, sr=16000),axis=1)\n",
    "    \n",
    "    \n",
    "    S,phase = librosa.magphase(librosa.stft(ys))\n",
    "    spectral_rolloff = np.mean(librosa.feature.spectral_rolloff(S=S, sr=fs), axis=1) \n",
    "    zcr = np.mean(librosa.feature.zero_crossing_rate(ys)[0])\n",
    "    \n",
    "    \n",
    "    feature_matrix_r = np.hstack((stat_features,stat_features_envelope,mfe, logenergy, mfcc_cmvn,power_spectrum,\n",
    "                                  melspectogram,chromagram,spectral_rolloff,zcr))\n",
    "    \n",
    "    Audio_Features[filepath.split('/')[-1]] = feature_matrix_r;\n",
    "    \n",
    "    \n",
    "    return feature_matrix_r\n",
    "\n",
    "\n",
    "def load_data(lungParam, sex, LH, file):\n",
    "    '''\n",
    "    feature: it is either 'FEV1', 'FVC' or 'PEF'\n",
    "    '''\n",
    "    data = pd.read_csv(file)\n",
    "    \n",
    "    if sex == 'M' or sex == 'F':\n",
    "        data = data[data['Sex'] == sex]\n",
    "    if LH == 'Y' or LH == 'N':\n",
    "        data = data[data['LH'] == LH]\n",
    "    \n",
    "    \n",
    "    #get the ground truth\n",
    "    y=  np.array([i for i in data['g'+lungParam]])\n",
    "    \n",
    "    #prepare to store a lot of features in X\n",
    "    X=[]\n",
    "    count = 0\n",
    "    for file in data['Filename']:\n",
    "        features = get_features(\"SpiroMask-July2021/SmartMaskData/FVC/N95/\"+file, lungParam)\n",
    "        #print(\"Size of features = \",features.shape)\n",
    "        X.append(features)\n",
    "        count += 1\n",
    "    X =  np.array(X)\n",
    "    \n",
    "    \n",
    "    #add the estiamted lung param as a feature\n",
    "    estiamtedValues = np.atleast_2d(data['r'+lungParam].to_numpy()).T\n",
    "    X = np.hstack((X, estiamtedValues))\n",
    "    # Return arrays to plug into sklearn's cross-validation algorithms\n",
    "    return X, np.array(y)"
   ]
  },
  {
   "cell_type": "code",
   "execution_count": 6,
   "metadata": {},
   "outputs": [
    {
     "name": "stdout",
     "output_type": "stream",
     "text": [
      "643 141845 441 220.0\n",
      "*** Feature extraction started ***\n",
      "60\n"
     ]
    },
    {
     "data": {
      "text/html": [
       "\n",
       "              <p>\n",
       "                  Progress: 100% Complete\n",
       "              <p/>            \n",
       "              <progress\n",
       "                  value='60'\n",
       "                  max='60',\n",
       "                  style='width: 25%',\n",
       "              >\n",
       "                  60\n",
       "              </progress>\n",
       "\n",
       "    "
      ],
      "text/plain": [
       "<IPython.core.display.HTML object>"
      ]
     },
     "metadata": {},
     "output_type": "display_data"
    },
    {
     "name": "stdout",
     "output_type": "stream",
     "text": [
      "686 151150 441 220.0\n",
      "*** Feature extraction started ***\n",
      "60\n"
     ]
    },
    {
     "data": {
      "text/html": [
       "\n",
       "              <p>\n",
       "                  Progress: 100% Complete\n",
       "              <p/>            \n",
       "              <progress\n",
       "                  value='60'\n",
       "                  max='60',\n",
       "                  style='width: 25%',\n",
       "              >\n",
       "                  60\n",
       "              </progress>\n",
       "\n",
       "    "
      ],
      "text/plain": [
       "<IPython.core.display.HTML object>"
      ]
     },
     "metadata": {},
     "output_type": "display_data"
    },
    {
     "name": "stdout",
     "output_type": "stream",
     "text": [
      "668 147396 441 220.0\n",
      "*** Feature extraction started ***\n",
      "60\n"
     ]
    },
    {
     "data": {
      "text/html": [
       "\n",
       "              <p>\n",
       "                  Progress: 100% Complete\n",
       "              <p/>            \n",
       "              <progress\n",
       "                  value='60'\n",
       "                  max='60',\n",
       "                  style='width: 25%',\n",
       "              >\n",
       "                  60\n",
       "              </progress>\n",
       "\n",
       "    "
      ],
      "text/plain": [
       "<IPython.core.display.HTML object>"
      ]
     },
     "metadata": {},
     "output_type": "display_data"
    },
    {
     "name": "stdout",
     "output_type": "stream",
     "text": [
      "637 140376 441 220.0\n",
      "*** Feature extraction started ***\n",
      "60\n"
     ]
    },
    {
     "data": {
      "text/html": [
       "\n",
       "              <p>\n",
       "                  Progress: 100% Complete\n",
       "              <p/>            \n",
       "              <progress\n",
       "                  value='60'\n",
       "                  max='60',\n",
       "                  style='width: 25%',\n",
       "              >\n",
       "                  60\n",
       "              </progress>\n",
       "\n",
       "    "
      ],
      "text/plain": [
       "<IPython.core.display.HTML object>"
      ]
     },
     "metadata": {},
     "output_type": "display_data"
    },
    {
     "name": "stdout",
     "output_type": "stream",
     "text": [
      "697 153597 441 220.0\n",
      "*** Feature extraction started ***\n",
      "60\n"
     ]
    },
    {
     "data": {
      "text/html": [
       "\n",
       "              <p>\n",
       "                  Progress: 100% Complete\n",
       "              <p/>            \n",
       "              <progress\n",
       "                  value='60'\n",
       "                  max='60',\n",
       "                  style='width: 25%',\n",
       "              >\n",
       "                  60\n",
       "              </progress>\n",
       "\n",
       "    "
      ],
      "text/plain": [
       "<IPython.core.display.HTML object>"
      ]
     },
     "metadata": {},
     "output_type": "display_data"
    },
    {
     "name": "stdout",
     "output_type": "stream",
     "text": [
      "1012 222970 441 220.0\n",
      "*** Feature extraction started ***\n",
      "60\n"
     ]
    },
    {
     "data": {
      "text/html": [
       "\n",
       "              <p>\n",
       "                  Progress: 100% Complete\n",
       "              <p/>            \n",
       "              <progress\n",
       "                  value='60'\n",
       "                  max='60',\n",
       "                  style='width: 25%',\n",
       "              >\n",
       "                  60\n",
       "              </progress>\n",
       "\n",
       "    "
      ],
      "text/plain": [
       "<IPython.core.display.HTML object>"
      ]
     },
     "metadata": {},
     "output_type": "display_data"
    },
    {
     "name": "stdout",
     "output_type": "stream",
     "text": [
      "1012 222970 441 220.0\n",
      "*** Feature extraction started ***\n",
      "60\n"
     ]
    },
    {
     "data": {
      "text/html": [
       "\n",
       "              <p>\n",
       "                  Progress: 100% Complete\n",
       "              <p/>            \n",
       "              <progress\n",
       "                  value='60'\n",
       "                  max='60',\n",
       "                  style='width: 25%',\n",
       "              >\n",
       "                  60\n",
       "              </progress>\n",
       "\n",
       "    "
      ],
      "text/plain": [
       "<IPython.core.display.HTML object>"
      ]
     },
     "metadata": {},
     "output_type": "display_data"
    },
    {
     "name": "stdout",
     "output_type": "stream",
     "text": [
      "694 153107 441 220.0\n",
      "*** Feature extraction started ***\n",
      "60\n"
     ]
    },
    {
     "data": {
      "text/html": [
       "\n",
       "              <p>\n",
       "                  Progress: 100% Complete\n",
       "              <p/>            \n",
       "              <progress\n",
       "                  value='60'\n",
       "                  max='60',\n",
       "                  style='width: 25%',\n",
       "              >\n",
       "                  60\n",
       "              </progress>\n",
       "\n",
       "    "
      ],
      "text/plain": [
       "<IPython.core.display.HTML object>"
      ]
     },
     "metadata": {},
     "output_type": "display_data"
    },
    {
     "name": "stdout",
     "output_type": "stream",
     "text": [
      "608 134173 441 220.0\n",
      "*** Feature extraction started ***\n",
      "60\n"
     ]
    },
    {
     "data": {
      "text/html": [
       "\n",
       "              <p>\n",
       "                  Progress: 100% Complete\n",
       "              <p/>            \n",
       "              <progress\n",
       "                  value='60'\n",
       "                  max='60',\n",
       "                  style='width: 25%',\n",
       "              >\n",
       "                  60\n",
       "              </progress>\n",
       "\n",
       "    "
      ],
      "text/plain": [
       "<IPython.core.display.HTML object>"
      ]
     },
     "metadata": {},
     "output_type": "display_data"
    },
    {
     "name": "stdout",
     "output_type": "stream",
     "text": [
      "1012 222970 441 220.0\n",
      "*** Feature extraction started ***\n",
      "60\n"
     ]
    },
    {
     "data": {
      "text/html": [
       "\n",
       "              <p>\n",
       "                  Progress: 100% Complete\n",
       "              <p/>            \n",
       "              <progress\n",
       "                  value='60'\n",
       "                  max='60',\n",
       "                  style='width: 25%',\n",
       "              >\n",
       "                  60\n",
       "              </progress>\n",
       "\n",
       "    "
      ],
      "text/plain": [
       "<IPython.core.display.HTML object>"
      ]
     },
     "metadata": {},
     "output_type": "display_data"
    },
    {
     "name": "stdout",
     "output_type": "stream",
     "text": [
      "1012 222970 441 220.0\n",
      "*** Feature extraction started ***\n",
      "60\n"
     ]
    },
    {
     "data": {
      "text/html": [
       "\n",
       "              <p>\n",
       "                  Progress: 100% Complete\n",
       "              <p/>            \n",
       "              <progress\n",
       "                  value='60'\n",
       "                  max='60',\n",
       "                  style='width: 25%',\n",
       "              >\n",
       "                  60\n",
       "              </progress>\n",
       "\n",
       "    "
      ],
      "text/plain": [
       "<IPython.core.display.HTML object>"
      ]
     },
     "metadata": {},
     "output_type": "display_data"
    },
    {
     "name": "stdout",
     "output_type": "stream",
     "text": [
      "807 177812 441 220.0\n",
      "*** Feature extraction started ***\n",
      "60\n"
     ]
    },
    {
     "data": {
      "text/html": [
       "\n",
       "              <p>\n",
       "                  Progress: 100% Complete\n",
       "              <p/>            \n",
       "              <progress\n",
       "                  value='60'\n",
       "                  max='60',\n",
       "                  style='width: 25%',\n",
       "              >\n",
       "                  60\n",
       "              </progress>\n",
       "\n",
       "    "
      ],
      "text/plain": [
       "<IPython.core.display.HTML object>"
      ]
     },
     "metadata": {},
     "output_type": "display_data"
    },
    {
     "name": "stdout",
     "output_type": "stream",
     "text": [
      "1012 222970 441 220.0\n",
      "*** Feature extraction started ***\n",
      "60\n"
     ]
    },
    {
     "data": {
      "text/html": [
       "\n",
       "              <p>\n",
       "                  Progress: 100% Complete\n",
       "              <p/>            \n",
       "              <progress\n",
       "                  value='60'\n",
       "                  max='60',\n",
       "                  style='width: 25%',\n",
       "              >\n",
       "                  60\n",
       "              </progress>\n",
       "\n",
       "    "
      ],
      "text/plain": [
       "<IPython.core.display.HTML object>"
      ]
     },
     "metadata": {},
     "output_type": "display_data"
    },
    {
     "name": "stdout",
     "output_type": "stream",
     "text": [
      "704 155232 441 220.0\n",
      "*** Feature extraction started ***\n",
      "60\n"
     ]
    },
    {
     "data": {
      "text/html": [
       "\n",
       "              <p>\n",
       "                  Progress: 100% Complete\n",
       "              <p/>            \n",
       "              <progress\n",
       "                  value='60'\n",
       "                  max='60',\n",
       "                  style='width: 25%',\n",
       "              >\n",
       "                  60\n",
       "              </progress>\n",
       "\n",
       "    "
      ],
      "text/plain": [
       "<IPython.core.display.HTML object>"
      ]
     },
     "metadata": {},
     "output_type": "display_data"
    },
    {
     "name": "stdout",
     "output_type": "stream",
     "text": [
      "807 177812 441 220.0\n",
      "*** Feature extraction started ***\n",
      "60\n"
     ]
    },
    {
     "data": {
      "text/html": [
       "\n",
       "              <p>\n",
       "                  Progress: 100% Complete\n",
       "              <p/>            \n",
       "              <progress\n",
       "                  value='60'\n",
       "                  max='60',\n",
       "                  style='width: 25%',\n",
       "              >\n",
       "                  60\n",
       "              </progress>\n",
       "\n",
       "    "
      ],
      "text/plain": [
       "<IPython.core.display.HTML object>"
      ]
     },
     "metadata": {},
     "output_type": "display_data"
    },
    {
     "name": "stdout",
     "output_type": "stream",
     "text": [
      "807 177812 441 220.0\n",
      "*** Feature extraction started ***\n",
      "60\n"
     ]
    },
    {
     "data": {
      "text/html": [
       "\n",
       "              <p>\n",
       "                  Progress: 100% Complete\n",
       "              <p/>            \n",
       "              <progress\n",
       "                  value='60'\n",
       "                  max='60',\n",
       "                  style='width: 25%',\n",
       "              >\n",
       "                  60\n",
       "              </progress>\n",
       "\n",
       "    "
      ],
      "text/plain": [
       "<IPython.core.display.HTML object>"
      ]
     },
     "metadata": {},
     "output_type": "display_data"
    },
    {
     "name": "stdout",
     "output_type": "stream",
     "text": [
      "807 177812 441 220.0\n",
      "*** Feature extraction started ***\n",
      "60\n"
     ]
    },
    {
     "data": {
      "text/html": [
       "\n",
       "              <p>\n",
       "                  Progress: 100% Complete\n",
       "              <p/>            \n",
       "              <progress\n",
       "                  value='60'\n",
       "                  max='60',\n",
       "                  style='width: 25%',\n",
       "              >\n",
       "                  60\n",
       "              </progress>\n",
       "\n",
       "    "
      ],
      "text/plain": [
       "<IPython.core.display.HTML object>"
      ]
     },
     "metadata": {},
     "output_type": "display_data"
    },
    {
     "name": "stdout",
     "output_type": "stream",
     "text": [
      "807 177812 441 220.0\n",
      "*** Feature extraction started ***\n",
      "60\n"
     ]
    },
    {
     "data": {
      "text/html": [
       "\n",
       "              <p>\n",
       "                  Progress: 100% Complete\n",
       "              <p/>            \n",
       "              <progress\n",
       "                  value='60'\n",
       "                  max='60',\n",
       "                  style='width: 25%',\n",
       "              >\n",
       "                  60\n",
       "              </progress>\n",
       "\n",
       "    "
      ],
      "text/plain": [
       "<IPython.core.display.HTML object>"
      ]
     },
     "metadata": {},
     "output_type": "display_data"
    },
    {
     "name": "stdout",
     "output_type": "stream",
     "text": [
      "807 177812 441 220.0\n",
      "*** Feature extraction started ***\n",
      "60\n"
     ]
    },
    {
     "data": {
      "text/html": [
       "\n",
       "              <p>\n",
       "                  Progress: 100% Complete\n",
       "              <p/>            \n",
       "              <progress\n",
       "                  value='60'\n",
       "                  max='60',\n",
       "                  style='width: 25%',\n",
       "              >\n",
       "                  60\n",
       "              </progress>\n",
       "\n",
       "    "
      ],
      "text/plain": [
       "<IPython.core.display.HTML object>"
      ]
     },
     "metadata": {},
     "output_type": "display_data"
    },
    {
     "name": "stdout",
     "output_type": "stream",
     "text": [
      "1012 222970 441 220.0\n",
      "*** Feature extraction started ***\n",
      "60\n"
     ]
    },
    {
     "data": {
      "text/html": [
       "\n",
       "              <p>\n",
       "                  Progress: 100% Complete\n",
       "              <p/>            \n",
       "              <progress\n",
       "                  value='60'\n",
       "                  max='60',\n",
       "                  style='width: 25%',\n",
       "              >\n",
       "                  60\n",
       "              </progress>\n",
       "\n",
       "    "
      ],
      "text/plain": [
       "<IPython.core.display.HTML object>"
      ]
     },
     "metadata": {},
     "output_type": "display_data"
    },
    {
     "name": "stdout",
     "output_type": "stream",
     "text": [
      "1012 222970 441 220.0\n",
      "*** Feature extraction started ***\n",
      "60\n"
     ]
    },
    {
     "data": {
      "text/html": [
       "\n",
       "              <p>\n",
       "                  Progress: 100% Complete\n",
       "              <p/>            \n",
       "              <progress\n",
       "                  value='60'\n",
       "                  max='60',\n",
       "                  style='width: 25%',\n",
       "              >\n",
       "                  60\n",
       "              </progress>\n",
       "\n",
       "    "
      ],
      "text/plain": [
       "<IPython.core.display.HTML object>"
      ]
     },
     "metadata": {},
     "output_type": "display_data"
    },
    {
     "name": "stdout",
     "output_type": "stream",
     "text": [
      "807 177812 441 220.0\n",
      "*** Feature extraction started ***\n",
      "60\n"
     ]
    },
    {
     "data": {
      "text/html": [
       "\n",
       "              <p>\n",
       "                  Progress: 100% Complete\n",
       "              <p/>            \n",
       "              <progress\n",
       "                  value='60'\n",
       "                  max='60',\n",
       "                  style='width: 25%',\n",
       "              >\n",
       "                  60\n",
       "              </progress>\n",
       "\n",
       "    "
      ],
      "text/plain": [
       "<IPython.core.display.HTML object>"
      ]
     },
     "metadata": {},
     "output_type": "display_data"
    },
    {
     "name": "stdout",
     "output_type": "stream",
     "text": [
      "807 177812 441 220.0\n",
      "*** Feature extraction started ***\n",
      "60\n"
     ]
    },
    {
     "data": {
      "text/html": [
       "\n",
       "              <p>\n",
       "                  Progress: 100% Complete\n",
       "              <p/>            \n",
       "              <progress\n",
       "                  value='60'\n",
       "                  max='60',\n",
       "                  style='width: 25%',\n",
       "              >\n",
       "                  60\n",
       "              </progress>\n",
       "\n",
       "    "
      ],
      "text/plain": [
       "<IPython.core.display.HTML object>"
      ]
     },
     "metadata": {},
     "output_type": "display_data"
    },
    {
     "name": "stdout",
     "output_type": "stream",
     "text": [
      "807 177812 441 220.0\n",
      "*** Feature extraction started ***\n",
      "60\n"
     ]
    },
    {
     "data": {
      "text/html": [
       "\n",
       "              <p>\n",
       "                  Progress: 100% Complete\n",
       "              <p/>            \n",
       "              <progress\n",
       "                  value='60'\n",
       "                  max='60',\n",
       "                  style='width: 25%',\n",
       "              >\n",
       "                  60\n",
       "              </progress>\n",
       "\n",
       "    "
      ],
      "text/plain": [
       "<IPython.core.display.HTML object>"
      ]
     },
     "metadata": {},
     "output_type": "display_data"
    }
   ],
   "source": [
    "X, Y = load_data('FVC', 'A', 'A', \"data_FVC_N95.csv\")"
   ]
  },
  {
   "cell_type": "code",
   "execution_count": 7,
   "metadata": {},
   "outputs": [],
   "source": [
    "with open(filename, 'wb') as handle:\n",
    "    pickle.dump(Audio_Features, handle, protocol=pickle.HIGHEST_PROTOCOL)"
   ]
  },
  {
   "cell_type": "code",
   "execution_count": 2,
   "metadata": {},
   "outputs": [],
   "source": [
    "#testing area\n",
    "\n",
    "cfg = tsfel.get_features_by_domain()"
   ]
  },
  {
   "cell_type": "code",
   "execution_count": 12,
   "metadata": {},
   "outputs": [
    {
     "name": "stdout",
     "output_type": "stream",
     "text": [
      "\n",
      "Key2 =  FFT mean coefficient\n",
      "\tKey3 =  nfreq\n",
      "\n",
      "Key2 =  Fundamental frequency\n",
      "\tKey3 =  1\n",
      "\n",
      "Key2 =  Human range energy\n",
      "\tKey3 =  1\n",
      "\n",
      "Key2 =  LPCC\n",
      "\tKey3 =  n_coeff\n",
      "\n",
      "Key2 =  MFCC\n",
      "\tKey3 =  num_ceps\n",
      "\n",
      "Key2 =  Max power spectrum\n",
      "\tKey3 =  1\n",
      "\n",
      "Key2 =  Maximum frequency\n",
      "\tKey3 =  1\n",
      "\n",
      "Key2 =  Median frequency\n",
      "\tKey3 =  1\n",
      "\n",
      "Key2 =  Power bandwidth\n",
      "\tKey3 =  1\n",
      "\n",
      "Key2 =  Spectral centroid\n",
      "\tKey3 =  1\n",
      "\n",
      "Key2 =  Spectral decrease\n",
      "\tKey3 =  1\n",
      "\n",
      "Key2 =  Spectral distance\n",
      "\tKey3 =  1\n",
      "\n",
      "Key2 =  Spectral entropy\n",
      "\tKey3 =  1\n",
      "\n",
      "Key2 =  Spectral kurtosis\n",
      "\tKey3 =  1\n",
      "\n",
      "Key2 =  Spectral positive turning points\n",
      "\tKey3 =  1\n",
      "\n",
      "Key2 =  Spectral roll-off\n",
      "\tKey3 =  1\n",
      "\n",
      "Key2 =  Spectral roll-on\n",
      "\tKey3 =  1\n",
      "\n",
      "Key2 =  Spectral skewness\n",
      "\tKey3 =  1\n",
      "\n",
      "Key2 =  Spectral slope\n",
      "\tKey3 =  1\n",
      "\n",
      "Key2 =  Spectral spread\n",
      "\tKey3 =  1\n",
      "\n",
      "Key2 =  Spectral variation\n",
      "\tKey3 =  1\n",
      "\n",
      "Key2 =  Wavelet absolute mean\n",
      "\tKey3 =  widths\n",
      "\n",
      "Key2 =  Wavelet energy\n",
      "\tKey3 =  widths\n",
      "\n",
      "Key2 =  Wavelet entropy\n",
      "\tKey3 =  1\n",
      "\n",
      "Key2 =  Wavelet standard deviation\n",
      "\tKey3 =  widths\n",
      "\n",
      "Key2 =  Wavelet variance\n",
      "\tKey3 =  widths\n",
      "\n",
      "Key2 =  ECDF\n",
      "\tKey3 =  d\n",
      "\n",
      "Key2 =  ECDF Percentile\n",
      "\tKey3 =  percentile\n",
      "\n",
      "Key2 =  ECDF Percentile Count\n",
      "\tKey3 =  percentile\n",
      "\n",
      "Key2 =  Histogram\n",
      "\tKey3 =  nbins\n",
      "\n",
      "Key2 =  Interquartile range\n",
      "\tKey3 =  1\n",
      "\n",
      "Key2 =  Kurtosis\n",
      "\tKey3 =  1\n",
      "\n",
      "Key2 =  Max\n",
      "\tKey3 =  1\n",
      "\n",
      "Key2 =  Mean\n",
      "\tKey3 =  1\n",
      "\n",
      "Key2 =  Mean absolute deviation\n",
      "\tKey3 =  1\n",
      "\n",
      "Key2 =  Median\n",
      "\tKey3 =  1\n",
      "\n",
      "Key2 =  Median absolute deviation\n",
      "\tKey3 =  1\n",
      "\n",
      "Key2 =  Min\n",
      "\tKey3 =  1\n",
      "\n",
      "Key2 =  Root mean square\n",
      "\tKey3 =  1\n",
      "\n",
      "Key2 =  Skewness\n",
      "\tKey3 =  1\n",
      "\n",
      "Key2 =  Standard deviation\n",
      "\tKey3 =  1\n",
      "\n",
      "Key2 =  Variance\n",
      "\tKey3 =  1\n",
      "\n",
      "Key2 =  Absolute energy\n",
      "\tKey3 =  1\n",
      "\n",
      "Key2 =  Area under the curve\n",
      "\tKey3 =  1\n",
      "\n",
      "Key2 =  Autocorrelation\n",
      "\tKey3 =  1\n",
      "\n",
      "Key2 =  Centroid\n",
      "\tKey3 =  1\n",
      "\n",
      "Key2 =  Entropy\n",
      "\tKey3 =  1\n",
      "\n",
      "Key2 =  Mean absolute diff\n",
      "\tKey3 =  1\n",
      "\n",
      "Key2 =  Mean diff\n",
      "\tKey3 =  1\n",
      "\n",
      "Key2 =  Median absolute diff\n",
      "\tKey3 =  1\n",
      "\n",
      "Key2 =  Median diff\n",
      "\tKey3 =  1\n",
      "\n",
      "Key2 =  Negative turning points\n",
      "\tKey3 =  1\n",
      "\n",
      "Key2 =  Neighbourhood peaks\n",
      "\tKey3 =  1\n",
      "\n",
      "Key2 =  Peak to peak distance\n",
      "\tKey3 =  1\n",
      "\n",
      "Key2 =  Positive turning points\n",
      "\tKey3 =  1\n",
      "\n",
      "Key2 =  Signal distance\n",
      "\tKey3 =  1\n",
      "\n",
      "Key2 =  Slope\n",
      "\tKey3 =  1\n",
      "\n",
      "Key2 =  Sum absolute diff\n",
      "\tKey3 =  1\n",
      "\n",
      "Key2 =  Total energy\n",
      "\tKey3 =  1\n",
      "\n",
      "Key2 =  Zero crossing rate\n",
      "\tKey3 =  1\n"
     ]
    }
   ],
   "source": [
    "for key1 in cfg:\n",
    "    #print(\"Key1 = \", key1)\n",
    "    for key2 in cfg[key1]:\n",
    "        print(\"\\nKey2 = \", key2)\n",
    "        for key3 in cfg[key1][key2]:\n",
    "            if key3 == 'n_features':\n",
    "                print(\"\\tKey3 = \", cfg[key1][key2]['n_features'])"
   ]
  },
  {
   "cell_type": "code",
   "execution_count": null,
   "metadata": {},
   "outputs": [],
   "source": []
  }
 ],
 "metadata": {
  "kernelspec": {
   "display_name": "Python 3",
   "language": "python",
   "name": "python3"
  },
  "language_info": {
   "codemirror_mode": {
    "name": "ipython",
    "version": 3
   },
   "file_extension": ".py",
   "mimetype": "text/x-python",
   "name": "python",
   "nbconvert_exporter": "python",
   "pygments_lexer": "ipython3",
   "version": "3.7.4"
  }
 },
 "nbformat": 4,
 "nbformat_minor": 2
}
